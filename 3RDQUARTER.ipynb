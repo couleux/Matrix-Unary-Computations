{
  "nbformat": 4,
  "nbformat_minor": 0,
  "metadata": {
    "colab": {
      "provenance": [],
      "include_colab_link": true
    },
    "kernelspec": {
      "name": "python3",
      "display_name": "Python 3"
    },
    "language_info": {
      "name": "python"
    }
  },
  "cells": [
    {
      "cell_type": "markdown",
      "metadata": {
        "id": "view-in-github",
        "colab_type": "text"
      },
      "source": [
        "<a href=\"https://colab.research.google.com/github/couleux/Matrix-Unary-Computations/blob/main/3RDQUARTER.ipynb\" target=\"_parent\"><img src=\"https://colab.research.google.com/assets/colab-badge.svg\" alt=\"Open In Colab\"/></a>"
      ]
    },
    {
      "cell_type": "code",
      "execution_count": 1,
      "metadata": {
        "id": "IO4IhjDNMGzO"
      },
      "outputs": [],
      "source": [
        "import numpy as np\n",
        "\n",
        "A = np.array([\n",
        "    [3, 2, 1, 1, 0],\n",
        "    [1, 4, 2, 0, 1],\n",
        "    [2, 3, 4, 1, 0],\n",
        "    [1, 1, 3, 5, 0],\n",
        "    [0, 1, 2, 4, 3]\n",
        "])\n",
        "\n",
        "B = np.array([100, 150, 120, 110, 140])"
      ]
    },
    {
      "cell_type": "code",
      "source": [
        "det_A = np.linalg.det(A)\n",
        "if det_A == 0:\n",
        "    print(\"Matrix A is singular and cannot be inverted!\")\n",
        "else:\n",
        "    # Find the inverse of matrix A\n",
        "    A_inv = np.linalg.inv(A)\n",
        "\n",
        "    # Solve for X using the matrix inverse method\n",
        "    X = np.dot(A_inv, B)\n",
        "\n",
        "    print(\"Solution (Unknowns):\")\n",
        "    print(X)"
      ],
      "metadata": {
        "colab": {
          "base_uri": "https://localhost:8080/"
        },
        "id": "tCQa-VXlNfod",
        "outputId": "92e5646c-4511-4647-ecdb-9008232ad746"
      },
      "execution_count": null,
      "outputs": [
        {
          "output_type": "stream",
          "name": "stdout",
          "text": [
            "Solution (Unknowns):\n",
            "[ 7.36462094 32.23826715 -1.62454874 15.05415162 16.93140794]\n"
          ]
        }
      ]
    },
    {
      "cell_type": "markdown",
      "source": [
        "**Practice Problems**"
      ],
      "metadata": {
        "id": "jGBeQsHEOj5i"
      }
    },
    {
      "cell_type": "markdown",
      "source": [
        "Problem 1:"
      ],
      "metadata": {
        "id": "NZFHj89KO3IL"
      }
    },
    {
      "cell_type": "code",
      "source": [
        "A1 = np.array([\n",
        "    [2, 1, -1],\n",
        "    [-1, 3, 2],\n",
        "    [1, -2, 4]\n",
        "])\n",
        "\n",
        "B1 = np.array([5, 6, 7])\n",
        "\n",
        "det_A1 = np.linalg.det(A1)\n",
        "if det_A1 == 0:\n",
        "    print(\"Matrix A1 is singular and cannot be inverted!\")\n",
        "else:\n",
        "    # Find the inverse of matrix A1\n",
        "    A1_inv = np.linalg.inv(A1)\n",
        "\n",
        "    # Solve for X using the matrix inverse method\n",
        "    X1 = np.dot(A1_inv, B1)\n",
        "\n",
        "    print(\"Solution (Unknowns):\")\n",
        "    print(X1)"
      ],
      "metadata": {
        "colab": {
          "base_uri": "https://localhost:8080/"
        },
        "id": "vaiEN0wSPIIl",
        "outputId": "44cc912a-78b4-42a1-ea3f-14c0ee9d3075"
      },
      "execution_count": null,
      "outputs": [
        {
          "output_type": "stream",
          "name": "stdout",
          "text": [
            "Solution (Unknowns):\n",
            "[2.64102564 1.61538462 1.8974359 ]\n"
          ]
        }
      ]
    },
    {
      "cell_type": "markdown",
      "source": [
        "Problem 2:"
      ],
      "metadata": {
        "id": "Y6PkK68mQq1t"
      }
    },
    {
      "cell_type": "code",
      "source": [
        "A2 = np.array([\n",
        "    [5, 3, 1, 1, 0],\n",
        "    [4, 6, 2, 0, 1],\n",
        "    [2, 7, 3, 1, 0],\n",
        "    [1, 2, 4, 5, 0],\n",
        "    [3, 4, 5, 0, 6]\n",
        "])\n",
        "\n",
        "B2 = np.array([200, 300, 150, 120, 250])\n",
        "\n",
        "det_A2 = np.linalg.det(A2)\n",
        "if det_A2 == 0:\n",
        "    print(\"Matrix A2 is singular and cannot be inverted!\")\n",
        "else:\n",
        "    # Find the inverse of matrix A1\n",
        "    A2_inv = np.linalg.inv(A2)\n",
        "\n",
        "    # Solve for X using the matrix inverse method\n",
        "    X2 = np.dot(A2_inv, B2)\n",
        "\n",
        "    print(\"Solution (Unknowns):\")\n",
        "    print(X2)"
      ],
      "metadata": {
        "colab": {
          "base_uri": "https://localhost:8080/"
        },
        "id": "u5AHft92QvAw",
        "outputId": "d1b75b54-64e9-4210-e6a6-967a3b445e65"
      },
      "execution_count": null,
      "outputs": [
        {
          "output_type": "stream",
          "name": "stdout",
          "text": [
            "Solution (Unknowns):\n",
            "[ -23.86666667  137.6        -336.          242.53333333  241.86666667]\n"
          ]
        }
      ]
    },
    {
      "cell_type": "markdown",
      "source": [
        "Problem 3:"
      ],
      "metadata": {
        "id": "RSZuaR9vRfar"
      }
    },
    {
      "cell_type": "code",
      "source": [
        "np.random.seed(42)\n",
        "A3 = np.random.randint(1, 10, size=(7, 7))\n",
        "\n",
        "B3 = np.random.randint(10, 100, size=7)\n",
        "\n",
        "det_A3 = np.linalg.det(A3)\n",
        "if det_A3 == 0:\n",
        "    print(\"Matrix A3 is singular and cannot be inverted!\")\n",
        "else:\n",
        "    # Find the inverse of matrix A1\n",
        "    A3_inv = np.linalg.inv(A3)\n",
        "\n",
        "    # Solve for X using the matrix inverse method\n",
        "    X3 = np.dot(A3_inv, B3)\n",
        "\n",
        "    print(\"Solution (Unknowns):\")\n",
        "    print(X3)"
      ],
      "metadata": {
        "colab": {
          "base_uri": "https://localhost:8080/"
        },
        "id": "xQyBHszYRhG1",
        "outputId": "a707f145-d4d9-4b65-a048-4db0ef8d79b4"
      },
      "execution_count": null,
      "outputs": [
        {
          "output_type": "stream",
          "name": "stdout",
          "text": [
            "Solution (Unknowns):\n",
            "[ 3.34311393 10.17152918  0.49079184 -7.33151821  2.0390622   4.06600776\n",
            " -6.40401666]\n"
          ]
        }
      ]
    },
    {
      "cell_type": "markdown",
      "source": [
        "Problem 4:"
      ],
      "metadata": {
        "id": "V5v-6Sg5jlPe"
      }
    },
    {
      "cell_type": "code",
      "source": [
        "np.random.seed(42)\n",
        "A4 = np.random.randint(1, 10, size=(5, 5))\n",
        "\n",
        "B4 = np.random.randint(10, 100, size=5)\n",
        "\n",
        "det_A4 = np.linalg.det(A4)\n",
        "if det_A4 == 0:\n",
        "    print(\"Matrix A4 is singular and cannot be inverted!\")\n",
        "else:\n",
        "    # Find the inverse of matrix A1\n",
        "    A4_inv = np.linalg.inv(A4)\n",
        "\n",
        "    # Solve for X using the matrix inverse method\n",
        "    X4 = np.dot(A4_inv, B4)\n",
        "\n",
        "    print(\"Solution (Unknowns):\")\n",
        "    print(X4)"
      ],
      "metadata": {
        "colab": {
          "base_uri": "https://localhost:8080/"
        },
        "id": "6jJjlAXljn00",
        "outputId": "5081c3c6-688d-4d56-c2d7-d4701a629761"
      },
      "execution_count": null,
      "outputs": [
        {
          "output_type": "stream",
          "name": "stdout",
          "text": [
            "Solution (Unknowns):\n",
            "[-22.91568627  -4.2496732   -2.85882353  20.22941176  23.30457516]\n"
          ]
        }
      ]
    },
    {
      "cell_type": "markdown",
      "source": [
        "Problem 5:"
      ],
      "metadata": {
        "id": "FFjJ8DdESRes"
      }
    },
    {
      "cell_type": "code",
      "source": [
        "def solve_system(coefficients, constants):\n",
        "    A = np.array(coefficients)\n",
        "    B = np.array(constants)\n",
        "\n",
        "    det_A = np.linalg.det(A)\n",
        "\n",
        "    if det_A == 0:\n",
        "      print(\"Matrix A is singular and cannot be inverted!\")\n",
        "    else:\n",
        "      # Find the inverse of matrix A\n",
        "      A_inv = np.linalg.inv(A)\n",
        "\n",
        "      # Solve for X using the matrix inverse method\n",
        "      X = np.dot(A_inv, B)\n",
        "\n",
        "      return X\n",
        "\n",
        "solution = solve_system(A, B)\n",
        "print(\"Problem 5 solution:\")\n",
        "print(solution)"
      ],
      "metadata": {
        "colab": {
          "base_uri": "https://localhost:8080/"
        },
        "id": "0Jp-or0MSSmF",
        "outputId": "859e29de-a41f-4e5f-9d8a-1d9db53c5d9d"
      },
      "execution_count": null,
      "outputs": [
        {
          "output_type": "stream",
          "name": "stdout",
          "text": [
            "Problem 5 solution:\n",
            "[ 7.36462094 32.23826715 -1.62454874 15.05415162 16.93140794]\n"
          ]
        }
      ]
    },
    {
      "cell_type": "markdown",
      "source": [],
      "metadata": {
        "id": "HlGWRqQdiFy5"
      }
    }
  ]
}